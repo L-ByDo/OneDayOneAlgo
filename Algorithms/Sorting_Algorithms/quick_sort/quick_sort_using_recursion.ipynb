{
  "nbformat": 4,
  "nbformat_minor": 0,
  "metadata": {
    "colab": {
      "name": "quick_sort_recursion.ipynb",
      "provenance": [],
      "collapsed_sections": []
    },
    "kernelspec": {
      "name": "python3",
      "display_name": "Python 3"
    }
  },
  "cells": [
    {
      "cell_type": "code",
      "metadata": {
        "id": "7qJC2cujsWhC",
        "colab_type": "code",
        "colab": {
          "base_uri": "https://localhost:8080/",
          "height": 37
        },
        "outputId": "8dde59d2-a990-4967-c026-30b99f501503"
      },
      "source": [
        "#this is variation of quick sort algorithm implemented recursively\n",
        "def quicksort(seq):\n",
        "    length=len(seq)\n",
        "    if length<=1: #if only one element or 0, return itself\n",
        "        return seq\n",
        "    else:\n",
        "        pivot=seq.pop()\n",
        "    great=[]\n",
        "    low=[]\n",
        "    def fun(seq,low,great):  #recursion through list\n",
        "        if len(seq)==0:\n",
        "            return\n",
        "        elif seq[0]>pivot:\n",
        "            great.append(seq[0])  #take larger elements in this array\n",
        "        else:\n",
        "            low.append(seq[0])  #take shorter elements in this array\n",
        "        return fun(seq[1:],low,great)\n",
        "    fun(seq,low,great)\n",
        "    return quicksort(low)+[pivot]+quicksort(great)  #add smaller+pivot +larger recursively\n",
        "print(quicksort([4,3,78,78,43,3,8,79,1000,4,5666]))\n"
      ],
      "execution_count": 1,
      "outputs": [
        {
          "output_type": "stream",
          "text": [
            "[3, 3, 4, 4, 8, 43, 78, 78, 79, 1000, 5666]\n"
          ],
          "name": "stdout"
        }
      ]
    }
  ]
}
