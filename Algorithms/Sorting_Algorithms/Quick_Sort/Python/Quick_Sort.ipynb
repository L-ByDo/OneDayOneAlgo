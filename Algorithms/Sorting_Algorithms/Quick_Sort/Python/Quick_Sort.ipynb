{
  "nbformat": 4,
  "nbformat_minor": 0,
  "metadata": {
    "colab": {
      "name": "quick_sort.ipynb",
      "provenance": []
    },
    "kernelspec": {
      "name": "python3",
      "display_name": "Python 3"
    }
  },
  "cells": [
    {
      "cell_type": "code",
      "metadata": {
        "id": "7qJC2cujsWhC",
        "colab_type": "code",
        "colab": {}
      },
      "source": [
        "def partition(arr,low,high): \n",
        "    i = ( low-1 )         # index of smaller element \n",
        "    pivot = arr[high]     # pivot \n",
        "  \n",
        "    for j in range(low , high): \n",
        "  \n",
        "        # If current element is smaller than the pivot \n",
        "        if   arr[j] < pivot: \n",
        "          \n",
        "            # increment index of smaller element \n",
        "            i = i+1 \n",
        "            arr[i],arr[j] = arr[j],arr[i] \n",
        "  \n",
        "    arr[i+1],arr[high] = arr[high],arr[i+1] \n",
        "    return ( i+1 ) \n",
        "# arr[] --> Array to be sorted, \n",
        "# low  --> Starting index, \n",
        "# high  --> Ending index \n",
        "  \n",
        "# Function to do Quick sort \n",
        "def quickSort(arr,low,high): \n",
        "    if low < high: \n",
        "  \n",
        "        # pi is partitioning index, arr[p] is now \n",
        "        # at right place \n",
        "        pi = partition(arr,low,high) \n",
        "  \n",
        "        # Separately sort elements before \n",
        "        # partition and after partition \n",
        "        quickSort(arr, low, pi-1) \n",
        "        quickSort(arr, pi+1, high) \n",
        "a= [10, 7, 8, 9, 1, 5] \n",
        "n = len(arr) \n",
        "quickSort(a,0,n-1) \n",
        "print (\"Sorted array is:\") \n",
        "for i in range(n): \n",
        "    print (\"%d\" %arr[i]), \n"
      ],
      "execution_count": 0,
      "outputs": []
    }
  ]
}
