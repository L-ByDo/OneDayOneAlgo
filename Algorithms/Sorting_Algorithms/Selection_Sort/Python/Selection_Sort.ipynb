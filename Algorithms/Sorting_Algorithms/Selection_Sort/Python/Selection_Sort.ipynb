{
  "nbformat": 4,
  "nbformat_minor": 0,
  "metadata": {
    "colab": {
      "name": "professor_question",
      "provenance": [],
      "collapsed_sections": []
    },
    "kernelspec": {
      "name": "python3",
      "display_name": "Python 3"
    }
  },
  "cells": [
    {
      "cell_type": "code",
      "metadata": {
        "id": "7qJC2cujsWhC",
        "colab_type": "code",
        "outputId": "f022572d-8c00-43be-9e91-a91bb09a4c1e",
        "colab": {
          "base_uri": "https://localhost:8080/",
          "height": 37
        }
      },
      "source": [
        "#The question is a part of hackerrank algorithm problem in which we need to find if certain number of students\n",
        "#are on time,thn class will be held,else it would be cancelled. \n",
        "#Logic is to sort the array and then count the number of negative or zero elements(who are on time)\n",
        "def selection_sort(arr):\n",
        "   for i in range(0,len(arr)):\n",
        "       for j in range(i+1,len(arr)):  #sort the array\n",
        "           if arr[i]>arr[j]:\n",
        "               arr[i],arr[j]=arr[j],arr[i]\n",
        "test=int(input())\n",
        "for case in range(test):\n",
        "    check=list(map(int,input().split(' ')))\n",
        "    arr=list(map(int,input().split(' ')))\n",
        "    selection_sort(arr)\n",
        "    new=list()\n",
        "    for i in arr:\n",
        "        if i<=0:\n",
        "            new.append(i)\n",
        "    if len(new)>=check[1]:  #check the condition\n",
        "        print(\"NO\")\n",
        "    else:\n",
        "        print(\"YES\")\n"
      ],
      "execution_count": 0,
      "outputs": [
        {
          "output_type": "stream",
          "text": [
            "Sorted array is : [1, 2, 3, 3, 4, 4, 4, 8]\n"
          ],
          "name": "stdout"
        }
      ]
    }
  ]
}
