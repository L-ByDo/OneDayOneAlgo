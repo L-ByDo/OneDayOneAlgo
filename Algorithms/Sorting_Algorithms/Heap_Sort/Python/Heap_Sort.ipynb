{
  "nbformat": 4,
  "nbformat_minor": 0,
  "metadata": {
    "colab": {
      "name": "heap_sort",
      "provenance": [],
      "collapsed_sections": []
    },
    "kernelspec": {
      "name": "python3",
      "display_name": "Python 3"
    }
  },
  "cells": [
    {
      "cell_type": "code",
      "metadata": {
        "id": "X4k68ynngQhH",
        "colab_type": "code",
        "colab": {
          "base_uri": "https://localhost:8080/",
          "height": 37
        },
        "outputId": "d801593c-9cbb-4b4d-cbd2-5cb9e2b5b064"
      },
      "source": [
        "# Python program for implementation of heap Sort \n",
        "  \n",
        "# To heapify subtree rooted at index i. \n",
        "# n is size of heap \n",
        "def heapify(arr, n, i): \n",
        "    largest = i # Initialize largest as root \n",
        "    l = 2 * i + 1     # left = 2*i + 1 \n",
        "    r = 2 * i + 2     # right = 2*i + 2 \n",
        "  \n",
        "    # See if left child of root exists and is \n",
        "    # greater than root \n",
        "    if l < n and arr[i] < arr[l]: \n",
        "        largest = l \n",
        "  \n",
        "    # See if right child of root exists and is \n",
        "    # greater than root \n",
        "    if r < n and arr[largest] < arr[r]: \n",
        "        largest = r \n",
        "  \n",
        "    # Change root, if needed \n",
        "    if largest != i: \n",
        "        arr[i],arr[largest] = arr[largest],arr[i] # swap \n",
        "  \n",
        "        # Heapify the root. \n",
        "        heapify(arr, n, largest) \n",
        "  \n",
        "# The main function to sort an array of given size \n",
        "def heapSort(arr): \n",
        "    n = len(arr) \n",
        "  \n",
        "    # Build a maxheap. \n",
        "    for i in range(n//2 - 1, -1, -1): \n",
        "        heapify(arr, n, i) \n",
        "  \n",
        "    # One by one extract elements \n",
        "    for i in range(n-1, 0, -1): \n",
        "        arr[i], arr[0] = arr[0], arr[i] # swap \n",
        "        heapify(arr, i, 0) \n",
        "  \n",
        "# Driver code to test above \n",
        "arr = [ 12, 11, 13, 5, 6, 7] \n",
        "heapSort(arr) \n",
        "n = len(arr) \n",
        "print (\"Sorted array is\") \n",
        "for i in range(n): \n",
        "    print (\"%d\" %arr[i]), "
      ],
      "execution_count": 15,
      "outputs": [
        {
          "output_type": "stream",
          "text": [
            "9 7\n"
          ],
          "name": "stdout"
        }
      ]
    }
  ]
}
