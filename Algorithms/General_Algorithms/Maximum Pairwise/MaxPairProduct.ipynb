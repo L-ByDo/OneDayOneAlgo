{
  "nbformat": 4,
  "nbformat_minor": 0,
  "metadata": {
    "colab": {
      "name": "maximum_parwise",
      "provenance": [],
      "collapsed_sections": []
    },
    "kernelspec": {
      "name": "python3",
      "display_name": "Python 3"
    }
  },
  "cells": [
    {
      "cell_type": "code",
      "metadata": {
        "id": "7qJC2cujsWhC",
        "colab_type": "code",
        "outputId": "8dde59d2-a990-4967-c026-30b99f501503",
        "colab": {
          "base_uri": "https://localhost:8080/",
          "height": 37
        }
      },
      "source": [
        "#the given code finds maximum product of given two numbers from an array\n",
        "#logic is to sort an array, if all numbers are positive or only one is negative, print product of last two elements\n",
        "#if two or more are negative,then print maximum of products of first two and last elements.\n",
        "def quicksort(seq):\n",
        "    length=len(seq)\n",
        "    if length<=1:\n",
        "        return seq\n",
        "    else:\n",
        "        pivot=seq.pop()\n",
        "    great=[]\n",
        "    low=[]\n",
        "    def fun(seq,low,great):\n",
        "        if len(seq)==0:\n",
        "            return\n",
        "        elif seq[0]>pivot:\n",
        "            great.append(seq[0])\n",
        "        else:\n",
        "            low.append(seq[0])\n",
        "        return fun(seq[1:],low,great)\n",
        "    fun(seq,low,great)\n",
        "    return quicksort (low)+[pivot]+quicksort (great)\n",
        "arr=[4,5,-78,-65,2,-4,7]\n",
        "arr=quicksort(arr)\n",
        "print(arr)\n",
        "neg=0\n",
        "for elem in arr:  #check the negative numbers\n",
        "    if elem<0:\n",
        "        neg+=1\n",
        "print(arr)\n",
        "if neg==0 or neg==1:\n",
        "    print(arr[-1]*arr[-2])\n",
        "elif neg>=2:     #print maximum of first two or last two\n",
        "    posi=arr[-1]*arr[-2]\n",
        "    nega=arr[0]*arr[1]\n",
        "    print(max(posi,nega))"
      ],
      "execution_count": 0,
      "outputs": [
        {
          "output_type": "stream",
          "text": [
            "5070\n"
          ],
          "name": "stdout"
        }
      ]
    }
  ]
}
