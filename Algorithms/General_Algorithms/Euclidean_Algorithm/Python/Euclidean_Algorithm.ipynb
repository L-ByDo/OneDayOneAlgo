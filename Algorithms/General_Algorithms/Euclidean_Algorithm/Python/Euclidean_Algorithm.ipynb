{
  "nbformat": 4,
  "nbformat_minor": 0,
  "metadata": {
    "colab": {
      "name": "euclidean_algo",
      "provenance": [],
      "collapsed_sections": []
    },
    "kernelspec": {
      "name": "python3",
      "display_name": "Python 3"
    }
  },
  "cells": [
    {
      "cell_type": "code",
      "metadata": {
        "id": "7qJC2cujsWhC",
        "colab_type": "code",
        "outputId": "0cf2e80e-1096-4187-c9d8-f83bad366b61",
        "colab": {
          "base_uri": "https://localhost:8080/",
          "height": 37
        }
      },
      "source": [
        "#the given code finds the gcd of a number using Euclidean algorithm which is widely used in cryptography\n",
        "#the logic is to make recursive calls untill we are left with 0,num and output the num\n",
        "#according to number theory=gcd(a,b)=gcd(a,a%b)\n",
        "first=100\n",
        "second=50\n",
        "def gcd(first,second):\n",
        "    if second==0:  # the base condition if one of the element is zero return other element\n",
        "        return first\n",
        "    else:\n",
        "        return gcd(second,first%second)  #make recursive calls \n",
        "print(gcd(first,second))"
      ],
      "execution_count": 1,
      "outputs": [
        {
          "output_type": "stream",
          "text": [
            "50\n"
          ],
          "name": "stdout"
        }
      ]
    }
  ]
}
