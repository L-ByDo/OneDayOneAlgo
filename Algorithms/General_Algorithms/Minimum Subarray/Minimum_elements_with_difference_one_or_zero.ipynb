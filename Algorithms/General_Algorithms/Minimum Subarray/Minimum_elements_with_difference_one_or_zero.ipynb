{
  "nbformat": 4,
  "nbformat_minor": 0,
  "metadata": {
    "colab": {
      "name": "minimum_elements_with difference_one_or_zero",
      "provenance": [],
      "collapsed_sections": []
    },
    "kernelspec": {
      "name": "python3",
      "display_name": "Python 3"
    }
  },
  "cells": [
    {
      "cell_type": "code",
      "metadata": {
        "id": "7qJC2cujsWhC",
        "colab_type": "code",
        "outputId": "690981ce-66b4-4dfb-c3f1-29052cdde6f8",
        "colab": {
          "base_uri": "https://localhost:8080/",
          "height": 77
        }
      },
      "source": [
        "#the program finds minimum elements in a pair such that difference between any elements in sub array is 1 or 0\n",
        "#the logic is fill another array whose index are the number of similar elements in array\n",
        "import math\n",
        "res=-math.inf\n",
        "number=int(input())\n",
        "listt=list(map(int,input().split(' '))) #take user input\n",
        "new=list()\n",
        "for i in range(0,max(listt)+1):\n",
        "    new.append(0)\n",
        "for elem in listt:\n",
        "    new[elem]+=1\n",
        "for count in range(len(new)-1):\n",
        "    res=max(res,new[count]+new[count+1])  #if two consecutive number of elements are largest store them in final result\n",
        "print(res)\n"
      ],
      "execution_count": 1,
      "outputs": [
        {
          "output_type": "stream",
          "text": [
            "4\n",
            "2 3 5 4\n",
            "2\n"
          ],
          "name": "stdout"
        }
      ]
    }
  ]
}
