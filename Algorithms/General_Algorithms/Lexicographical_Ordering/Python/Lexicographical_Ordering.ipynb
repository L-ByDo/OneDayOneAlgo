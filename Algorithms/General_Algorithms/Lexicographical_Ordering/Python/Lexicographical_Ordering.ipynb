{
  "nbformat": 4,
  "nbformat_minor": 0,
  "metadata": {
    "colab": {
      "name": "big_sort",
      "provenance": [],
      "collapsed_sections": []
    },
    "kernelspec": {
      "name": "python3",
      "display_name": "Python 3"
    }
  },
  "cells": [
    {
      "cell_type": "code",
      "metadata": {
        "id": "7qJC2cujsWhC",
        "colab_type": "code",
        "outputId": "f022572d-8c00-43be-9e91-a91bb09a4c1e",
        "colab": {
          "base_uri": "https://localhost:8080/",
          "height": 37
        }
      },
      "source": [
        "#!/bin/python3\n",
        "\n",
        "import math\n",
        "import os\n",
        "import random\n",
        "import re\n",
        "import sys\n",
        "\n",
        "def bigSorting(unsorted):\n",
        "    unsorted.sort(key=lambda x:(len(x),x))  #compare using lexicographical \n",
        "    return unsorted\n",
        "\n",
        "if __name__ == '__main__':\n",
        "    fptr = open(os.environ['OUTPUT_PATH'], 'w')\n",
        "\n",
        "    n = int(input())  #number of test cases\n",
        "\n",
        "    unsorted = []\n",
        "\n",
        "    for _ in range(n):\n",
        "        unsorted_item = input()\n",
        "        unsorted.append(unsorted_item)\n",
        "\n",
        "    result = bigSorting(unsorted)\n",
        "\n",
        "    fptr.write('\\n'.join(result))\n",
        "    fptr.write('\\n')\n",
        "\n",
        "    fptr.close()\n"
      ],
      "execution_count": 0,
      "outputs": [
        {
          "output_type": "stream",
          "text": [
            "Sorted array is : [1, 2, 3, 3, 4, 4, 4, 8]\n"
          ],
          "name": "stdout"
        }
      ]
    }
  ]
}
