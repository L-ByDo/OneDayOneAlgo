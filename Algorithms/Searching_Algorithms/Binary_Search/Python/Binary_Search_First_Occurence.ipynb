{
  "nbformat": 4,
  "nbformat_minor": 0,
  "metadata": {
    "colab": {
      "name": "first_occurance",
      "provenance": [],
      "collapsed_sections": []
    },
    "kernelspec": {
      "name": "python3",
      "display_name": "Python 3"
    }
  },
  "cells": [
    {
      "cell_type": "code",
      "metadata": {
        "id": "7qJC2cujsWhC",
        "colab_type": "code",
        "outputId": "c299cb3f-0aef-4085-f505-015404b35ed4",
        "colab": {
          "base_uri": "https://localhost:8080/",
          "height": 37
        }
      },
      "source": [
        "#program to find first appearance of the number from sorted array\n",
        "#The logic is to find an element and keep checking on left side of it for the first appearance untill the array ends\n",
        "arr=[1,2,3,3,4,5,6]\n",
        "res=-1\n",
        "low=0\n",
        "high=5\n",
        "while low<=high:\n",
        "    mid=low+high//2\n",
        "    if arr[mid]==3:\n",
        "        res=mid   #if we found the element keep it inside this\n",
        "        high=mid-1  #start checking on left side again\n",
        "\n",
        "    elif arr[mid]>3:\n",
        "        high=mid-1\n",
        "    else:\n",
        "        low=mid+1\n",
        "print(res)"
      ],
      "execution_count": 1,
      "outputs": [
        {
          "output_type": "stream",
          "text": [
            "2\n"
          ],
          "name": "stdout"
        }
      ]
    }
  ]
}
