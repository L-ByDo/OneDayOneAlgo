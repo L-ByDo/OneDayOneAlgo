{
  "nbformat": 4,
  "nbformat_minor": 0,
  "metadata": {
    "colab": {
      "name": "perfect_square.ipynb",
      "provenance": [],
      "collapsed_sections": []
    },
    "kernelspec": {
      "name": "python3",
      "display_name": "Python 3"
    }
  },
  "cells": [
    {
      "cell_type": "code",
      "metadata": {
        "id": "h_ibGD2os0Cl",
        "colab_type": "code",
        "colab": {
          "base_uri": "https://localhost:8080/",
          "height": 37
        },
        "outputId": "c7a88c43-88d8-4069-b0ac-3aebc2255705"
      },
      "source": [
        "# Function to check for  \n",
        "# perfect square number  \n",
        "def checkPerfectSquare(N, start, last):  \n",
        "  \n",
        "    # Find the mid value  \n",
        "    # from start and last  \n",
        "    mid = int((start + last) / 2)  \n",
        "  \n",
        "    if (start > last):  \n",
        "        return -1\n",
        "  \n",
        "    # Check if we got the number which  \n",
        "    # is square root of the perfect  \n",
        "    # square number N  \n",
        "    if (mid * mid == N): \n",
        "        return mid \n",
        "  \n",
        "    # If the square(mid) is greater than N  \n",
        "    # it means only lower values then mid  \n",
        "    # will be possibly the square root of N  \n",
        "    elif (mid * mid > N): \n",
        "        return checkPerfectSquare(N, start,  \n",
        "                                  mid - 1)  \n",
        "  \n",
        "    # If the square(mid) is less than N  \n",
        "    # it means only higher values then mid  \n",
        "    # will be possibly the square root of N  \n",
        "    else: \n",
        "        return checkPerfectSquare(N, mid + 1,  \n",
        "                                  last) \n",
        "  \n",
        "# Driver code  \n",
        "N = 144\n",
        "print (checkPerfectSquare(N, 1, N))  \n"
      ],
      "execution_count": 26,
      "outputs": [
        {
          "output_type": "stream",
          "text": [
            "12\n"
          ],
          "name": "stdout"
        }
      ]
    }
  ]
}
